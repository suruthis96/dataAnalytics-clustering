{
  "cells": [
    {
      "cell_type": "markdown",
      "metadata": {
        "id": "view-in-github",
        "colab_type": "text"
      },
      "source": [
        "<a href=\"https://colab.research.google.com/github/suruthis96/dataAnalytics-clustering/blob/develop/FIFA_20_final.ipynb\" target=\"_parent\"><img src=\"https://colab.research.google.com/assets/colab-badge.svg\" alt=\"Open In Colab\"/></a>"
      ]
    },
    {
      "cell_type": "markdown",
      "id": "a7d1b1f1",
      "metadata": {
        "id": "a7d1b1f1"
      },
      "source": [
        "### Business case"
      ]
    },
    {
      "cell_type": "markdown",
      "id": "ce2aa35c",
      "metadata": {
        "id": "ce2aa35c"
      },
      "source": [
        "Football is one of the popular sports in the world.The aim of football is to score more goals than your opponent in a\n",
        "90 minute playing time frame. Each team consists of 11 players. These are made up of one goalkeeper and ten outfield players.\n",
        "Players must use their feet to kick the ball and are prohibited to use their hands apart from goalkeepers who can use any part\n",
        "of their body within the 18 yard box.\n",
        "\n",
        "All of the 11 players should acquire a few essential skills to become a professional footballer.  Those skills are dribbling,\n",
        "passing, shooting, defending the goal, to head the ball, juggle the ball, using both their feet efficiently etc.  Also,\n",
        "knowing the opponent team player's skill is essential to play effective football to increase the winning rate of the games.\n",
        "\n",
        "FIFA 20 is a football (soccer) simulation video game published by Electronic Arts (EA Sports) as part of the FIFA series. It has provided data of different football players across like player's full name, age, height, weight, their position in the\n",
        "team, rating of their skills like dribble, goal keeping, passing, their mental strength, their ranking with respect to each\n",
        "player's playing position etc., using which we can cluster the players via various skills and attributes."
      ]
    },
    {
      "cell_type": "markdown",
      "id": "51f33d95",
      "metadata": {
        "id": "51f33d95"
      },
      "source": [
        "### Problem Statement\n",
        "\n",
        "Task 1:-Prepare a complete data analysis report on the given data.\n",
        "\n",
        "Task 2:- Explore football skills and cluster football players based on their attributes.\n",
        "\n",
        "Task3:- Explore the data and attempt all the below asked questions in a step by step manner:\n",
        "1. Prepare a rank ordered list of top 10 countries with most players. Which countries are producing the most footballers that play at this level?\n",
        "2. Plot the distribution of overall rating vs. age of players. Interpret what is the age after which a player stops improving?\n",
        "3. Which type of offensive players tends to get paid the most: the striker, the right-winger, or the left-winger?\n"
      ]
    },
    {
      "cell_type": "markdown",
      "id": "64257c88",
      "metadata": {
        "id": "64257c88"
      },
      "source": [
        "### Domain Analysis\n",
        "It consists of the parameters given below:\n",
        "\n",
        "1. sofifa_id - refers to the ID of the soFIFA forum\n",
        "2. player_url - refers to the soFIFA player URL\n",
        "3. short_name - refers to the player's short name\n",
        "4. long_name - refers to the player's long name\n",
        "5. age - refers to the player's age\n",
        "6. dob - refers to the player's date of birth\n",
        "7. height_cm - refers to the player's height in cm\n",
        "8. weight_kg - refers to the player's weight in kg\n",
        "9. nationality - refers to the player's nationality\n",
        "10. club - refers to the club to which the player is associated with\n",
        "11. overall - refers to the general performance quality and value of the player representing the key positional skills and international reputation rated between 1-99\n",
        "12. potential - refers to the maximum Overall rating expected to be reached by a player in the top of his career rated between 1-99\n",
        "13. value_eur - refers to the player's monetary value in euro means market value of a player.This value represents the amount of money a football club is willing to pay to acquire a player from another club or the estimated worth of a player in the current transfer market.\n",
        "14. wage_eur - refers to the salary/wage in euro. It represents the amount of money player earns on a regular basis for their participation and performance as part of a football team. Wage can vary depending on several factors, including their skill level, experience, market demand and the financial capabilities of the club they are playing for.\n",
        "15. player_positions - refers to the possible on-field positions in which the player can play\n",
        "16. preferred_foot - refers to the preferred foot with which the player can play\n",
        "17. international_reputation - refers to the reputation cluster ranking between 1-5\n",
        "18. weak_foot - refers to the cluster ranking between 1-5 of how well a player uses his weak foot\n",
        "19. skill_moves - refers to the cluster ranking of the player's skills between 1 to 5\n",
        "20. work_rate - refers to the degree of the effort the player puts in terms of attack and defense rated as low, medium and high.  This feature should be interpreted as AttackWorkRate/DefenseWorkRate\n",
        "21. body_type - refers to the type of the body that the player possess like normal, lean and stocky\n",
        "22. real_face - refers to the availability of player's real face picture in the soFIFA database and forum\n",
        "23. release_clause_eur - refers to the amount in euro that should be paid if the player is to be released from the current club\n",
        "24. player_tags - refers to the tags assigned to the player to highlight their key attributes, skills, or characteristics.These tags can help both fans and professionals understand a player's strengths and playing style.\n",
        "25. team_position - refers to the on-field position in which the player will play for his team\n",
        "26. team_jersey_number - refers to the player's jersey number in the club\n",
        "27. loaned_from - refers to the club from where the player is loaned from.It means the club or team from which a player is temporarily transferred to another club for a specified period, usually a season or part of a season. When a player is \"loaned from\" a particular club, it means that they are still officially under contract with that club, but they are allowed to play for another club for a temporary period.  \n",
        "28. joined - refers to the date on which the played joined the club\n",
        "29. contract_valid_until - refers to the year till which the player has contract with the current club\n",
        "30. nation_position - refers to the on-field position in which the player will play for his country\n",
        "31. nation_jersey_number - refers to the player's jersey number in his national team\n",
        "\n",
        "Attributes 32 to 37 are applicable for all players ranked between 1-99 except the goal keeper.  These attributes are 0 for goal keepers\n",
        "\n",
        "32. pace - refers to the speed with which the player plays on the field\n",
        "33. shooting - refers to the kicking ability with which the player plays on the field\n",
        "34. passing - refers to the passing ability with which the player plays on the field\n",
        "35. dribbling - refers to the dribbling (possess and pass) ability of the player.Dribbling is an essential skill for attacking players, such as wingers, forwards, and midfielders, as it allows them to advance the ball, break through defensive lines, and create goal-scoring opportunities.\n",
        "36. defending - refers to the defending(block and intercept) ability of the player\n",
        "37. physic - refers to the player's physical strength\n",
        "\n",
        "Attributes 38 to 43 are applicable only for goal keepers ranked between 1-99.  These attributes are 0 for players other than goal keepers\n",
        "\n",
        "38. gk_diving - refers to the diving ability\n",
        "39. gk_handling - refers to the ball handling ability\n",
        "40. gk_kicking - refers to the kicking ability\n",
        "41. gk_reflexes - refers to the grade of various reflexes the goal keeper possess. It is the ability to react quickly and make rapid, instinctive saves in response to unexpected or close-range shots on goal. These reflexes are a crucial part of a goalkeeper's skill set because they allow them to make crucial saves and prevent goals, often in split-second situations.\n",
        "42. gk_speed - refers to the speed with which the goal keeper plays means ability to move around the goal area, cover distances quickly and react to situations on the field.\n",
        "43. gk_positioning - refers to a goalkeeper's ability to position themselves correctly and effectively in the goal area to anticipate and deal with shots, crosses, and other offensive plays from the opposing team.\n",
        "\n",
        "44. player_traits - refers to the characteristics that a player possesses\n",
        "\n",
        "Attributes 45 to 49 are various skills/abilities a player does while attacking the opponent team in search of a goal.  It is ranked between 1-99\n",
        "\n",
        "45. attacking_crossing - refers to the crossing ability\n",
        "46. attacking_finishing - refers to the finishing ability(converting to a goal)\n",
        "47. attacking_heading_accuracy - refers to the accuracy of completing a header ability\n",
        "48. attacking_short_passing - refers to the short passing ability\n",
        "49. attacking_volleys - refers to the air-borne strike, where a player's foot meets and directs the ball in an angled direction before it has time to reach the ground\n",
        "\n",
        "Attributes 50 to 54 are various skills/abilities a player exhibits during the normal playing condition ranked between 1-99\n",
        "\n",
        "50. skill_dribbling - refers to the dribbling ability\n",
        "51. skill_curve - refers to the ability with which the player kicks a ball in curve direction\n",
        "52. skill_fk_accuracy - refers to a player's proficiency in taking free-kicks means how accurately a player can place the ball when taking free-kicks.\n",
        "53. skill_long_passing - refers to the long passing ability\n",
        "54. skill_ball_control - refers to the ability to control the ball\n",
        "\n",
        "Attributes 55 to 59 are attributes associated with a player's movements on the field ranked between 1-99\n",
        "\n",
        "55. movement_acceleration - refers to the acceleration ability\n",
        "56. movement_sprint_speed - refers to the running speed ability\n",
        "57. movement_agility - refers to the ability to move easily and quickly\n",
        "58. movement_reactions - refers to the reactions a player exhibit\n",
        "59. movement_balance - refers to the balance a player possess\n",
        "\n",
        "Attributes 60 to 64 are attributes associated with a player's physical strength ranked between 1-99\n",
        "\n",
        "60. power_shot_power - refers to the power of the shot\n",
        "61. power_jumping - refers to the jumping ability\n",
        "62. power_stamina - refers to the stamina\n",
        "63. power_strength - refers to the stregnth\n",
        "64. power_long_shots - refers to the ability to kick long shots\n",
        "\n",
        "Attributes 65 to 70 are attributes associated with a player's mentality while playing; ranked between 1-99\n",
        "\n",
        "65. mentality_aggression - refers to the aggression\n",
        "66. mentality_interceptions - refers to the interceptions(blocking opponents kick to go further)\n",
        "67. mentality_positioning - refers to the dynamic positioning of the player on the field\n",
        "68. mentality_vision - refers to the vision\n",
        "69. mentality_penalties - refers to the penalties\n",
        "70. mentality_composure - refers to the composure\n",
        "\n",
        "Attributes 71 to 73 are attributes associated with a player's defending ability ranked between 1-99\n",
        "\n",
        "71. defending_marking - refers to the strategies to prevent opposing team from taking the ball\n",
        "72. defending_standing_tackle - refers to the ability to tackle the ball from opposing team(normal play)\n",
        "73. defending_sliding_tackle - refers to the ability to tackle the ball from opposing team(by sliding, diving etc.,)\n",
        "\n",
        "Attributes 74 to 78 are applicable only for goal keepers ranked between 1-99\n",
        "\n",
        "74. goalkeeping_diving - refers to the diving ability\n",
        "75. goalkeeping_handling - refers to the ball handling ability\n",
        "76. goalkeeping_kicking - refers to the ball kicking ability\n",
        "77. goalkeeping_positioning - refers to the dynamic positioning\n",
        "78. goalkeeping_reflexes - refers to the reflexing ability\n",
        "\n",
        "Attributes 79 to 104 are positional skill attributes of a player ranked between 1-99\n",
        "\n",
        "79. ls - refers to left striker\n",
        "80. st - refers to  center striker\n",
        "81. rs - refers to right striker\n",
        "82. lw - refers to left winger\n",
        "83. lf - refers to left forward\n",
        "84. cf - refers to center forward\n",
        "85. rf - refers to right forward\n",
        "86. rw - refers to right winger\n",
        "87. lam - refers to left attacking midfield\n",
        "88. cam - refers to center attacking midfield\n",
        "89. ram - refers to right attacking midfield\n",
        "90. lm - refers to left midfield\n",
        "91. lcm - refers to left center midfield\n",
        "92. cm - refers to center midfield\n",
        "93. rcm - refers to right center midfield\n",
        "94. rm - refers to right midfield\n",
        "95. lwb - refers to left winger back\n",
        "96. ldm - refers to left defensive midfield\n",
        "97. cdm - refers to center defensive midfield\n",
        "98. rdm - refers to right defensive midfield\n",
        "99. rwb - refers to right winger back\n",
        "100. lb - refers to left back\n",
        "101. lcb - refers to left center back\n",
        "102. cb - refers to center back\n",
        "103. rcb - refers to right center back\n",
        "104. rb - refers to right back"
      ]
    },
    {
      "cell_type": "code",
      "execution_count": null,
      "id": "6bbd76dd",
      "metadata": {
        "id": "6bbd76dd"
      },
      "outputs": [],
      "source": [
        "# to display the image of soccer game\n",
        "from IPython.display import Image\n",
        "Image(\"soccer.jpg\")"
      ]
    },
    {
      "cell_type": "code",
      "execution_count": null,
      "id": "595e0682",
      "metadata": {
        "id": "595e0682"
      },
      "outputs": [],
      "source": [
        "import numpy as np\n",
        "import pandas as pd\n",
        "import re\n",
        "import matplotlib.pyplot as plt\n",
        "import seaborn as sns\n",
        "\n",
        "import warnings\n",
        "warnings.filterwarnings('ignore')"
      ]
    },
    {
      "cell_type": "code",
      "execution_count": null,
      "id": "0dbd0b74",
      "metadata": {
        "id": "0dbd0b74"
      },
      "outputs": [],
      "source": [
        "fifa = pd.read_csv(\"players_20.csv\")\n",
        "fifa"
      ]
    },
    {
      "cell_type": "code",
      "execution_count": null,
      "id": "65b7202b",
      "metadata": {
        "id": "65b7202b"
      },
      "outputs": [],
      "source": [
        "fifa.shape"
      ]
    },
    {
      "cell_type": "markdown",
      "id": "8a5c6fb3",
      "metadata": {
        "id": "8a5c6fb3"
      },
      "source": [
        "- The data set has 18278 rows and 104 columns\n",
        "- It has both numerical and categorical features"
      ]
    },
    {
      "cell_type": "code",
      "execution_count": null,
      "id": "7cc869b1",
      "metadata": {
        "id": "7cc869b1"
      },
      "outputs": [],
      "source": [
        "fifa.info()"
      ]
    },
    {
      "cell_type": "markdown",
      "id": "9faa456c",
      "metadata": {
        "id": "9faa456c"
      },
      "source": [
        "There are 104 features/ columns out of which\n",
        "-  16 columns/features are of datatype float\n",
        "-  45 columns/features are of datatype integer\n",
        "- 43 columns/features are of datatype object"
      ]
    },
    {
      "cell_type": "code",
      "execution_count": null,
      "id": "985dd5ff",
      "metadata": {
        "id": "985dd5ff"
      },
      "outputs": [],
      "source": [
        "fifa.duplicated().sum()"
      ]
    },
    {
      "cell_type": "markdown",
      "id": "9baeed31",
      "metadata": {
        "id": "9baeed31"
      },
      "source": [
        "#### To simplify the analysis quicker extracting columns in 3 categories  based on the data types such as float, integer and object"
      ]
    },
    {
      "cell_type": "code",
      "execution_count": null,
      "id": "a2aaad3f",
      "metadata": {
        "id": "a2aaad3f"
      },
      "outputs": [],
      "source": [
        "fifa.columns"
      ]
    },
    {
      "cell_type": "code",
      "execution_count": null,
      "id": "9bc633c3",
      "metadata": {
        "id": "9bc633c3"
      },
      "outputs": [],
      "source": [
        "#fifa_data_cols_all = list(fifa_data.columns)\n",
        "fifa_flt = list(fifa.select_dtypes('float').columns)\n",
        "fifa_int = list(fifa.select_dtypes('integer').columns)\n",
        "fifa_obj = list(fifa.select_dtypes('object').columns)"
      ]
    },
    {
      "cell_type": "code",
      "execution_count": null,
      "id": "8dbd48f8",
      "metadata": {
        "id": "8dbd48f8"
      },
      "outputs": [],
      "source": [
        "print(fifa_flt)\n",
        "print(fifa_int)\n",
        "print(fifa_obj)"
      ]
    },
    {
      "cell_type": "markdown",
      "id": "3c70f7a8",
      "metadata": {
        "id": "3c70f7a8"
      },
      "source": [
        "\n",
        "#### Information about columns of datatype float"
      ]
    },
    {
      "cell_type": "code",
      "execution_count": null,
      "id": "e2858396",
      "metadata": {
        "id": "e2858396"
      },
      "outputs": [],
      "source": [
        "fifa[fifa_flt].info()"
      ]
    },
    {
      "cell_type": "code",
      "execution_count": null,
      "id": "c74b4bce",
      "metadata": {
        "id": "c74b4bce"
      },
      "outputs": [],
      "source": [
        "fifa[fifa_flt].describe()"
      ]
    },
    {
      "cell_type": "code",
      "execution_count": null,
      "id": "a355974b",
      "metadata": {
        "id": "a355974b"
      },
      "outputs": [],
      "source": [
        "fifa[fifa_flt].isnull().sum()"
      ]
    },
    {
      "cell_type": "markdown",
      "id": "e6096b7c",
      "metadata": {
        "id": "e6096b7c"
      },
      "source": [
        "- all the features with data type float have null values, These values will be corrected in data preprocessing\n"
      ]
    },
    {
      "cell_type": "markdown",
      "id": "3ea49409",
      "metadata": {
        "id": "3ea49409"
      },
      "source": [
        "#### Information about columns of datatype integer"
      ]
    },
    {
      "cell_type": "code",
      "execution_count": null,
      "id": "afd08b0b",
      "metadata": {
        "id": "afd08b0b"
      },
      "outputs": [],
      "source": [
        "fifa[fifa_int].info()"
      ]
    },
    {
      "cell_type": "code",
      "execution_count": null,
      "id": "230213c8",
      "metadata": {
        "id": "230213c8"
      },
      "outputs": [],
      "source": [
        "fifa[fifa_int].describe()"
      ]
    },
    {
      "cell_type": "code",
      "execution_count": null,
      "id": "caa1efb2",
      "metadata": {
        "id": "caa1efb2"
      },
      "outputs": [],
      "source": [
        "fifa[fifa_int].isnull().sum()"
      ]
    },
    {
      "cell_type": "markdown",
      "id": "b02df913",
      "metadata": {
        "id": "b02df913"
      },
      "source": [
        "- There is no null values present the features with data type integer"
      ]
    },
    {
      "cell_type": "markdown",
      "id": "4231ed2a",
      "metadata": {
        "id": "4231ed2a"
      },
      "source": [
        "#### Information about columns of datatype object"
      ]
    },
    {
      "cell_type": "code",
      "execution_count": null,
      "id": "c4af4f74",
      "metadata": {
        "id": "c4af4f74"
      },
      "outputs": [],
      "source": [
        "fifa[fifa_obj].info()"
      ]
    },
    {
      "cell_type": "code",
      "execution_count": null,
      "id": "83dc58c2",
      "metadata": {
        "id": "83dc58c2"
      },
      "outputs": [],
      "source": [
        "fifa[fifa_obj].isnull().sum()"
      ]
    },
    {
      "cell_type": "markdown",
      "id": "e9438d26",
      "metadata": {
        "id": "e9438d26"
      },
      "source": [
        "## Exploratory Data Analysis\n",
        "### Univariate analysis"
      ]
    },
    {
      "cell_type": "code",
      "execution_count": null,
      "id": "dfb580be",
      "metadata": {
        "id": "dfb580be"
      },
      "outputs": [],
      "source": [
        "float_features=['pace', 'shooting', 'passing', 'dribbling', 'defending', 'physic']\n",
        "fifa_float=fifa[float_features]\n",
        "\n",
        "plt.figure(figsize=(16, 10))\n",
        "\n",
        "for i, feature in enumerate(float_features):\n",
        "    plt.subplot(3,2, i + 1)\n",
        "    sns.histplot(fifa_float[feature], bins=14, kde=True, color='blue', edgecolor='black')\n",
        "    #plt.title(feature)\n",
        "\n",
        "plt.tight_layout()\n",
        "plt.show()"
      ]
    },
    {
      "cell_type": "markdown",
      "id": "ad08e10a",
      "metadata": {
        "id": "ad08e10a"
      },
      "source": [
        "## Insights\n",
        "- maximum players are rated between 65 to 75 for their pace attribute\n",
        "- Maximum players rated as 65 for their shooting ability\n",
        "- more than 3000 players got 60 rating for the ball passing ability\n",
        "- more than 3500 players has the rating between 60 to 70 for their dribbling ability\n",
        "- around 2500 players for 60 rating for the defending attribute\n",
        "- maximum players are rated between 65 to 75 for their physic"
      ]
    },
    {
      "cell_type": "code",
      "execution_count": null,
      "id": "c32bb534",
      "metadata": {
        "id": "c32bb534"
      },
      "outputs": [],
      "source": [
        "int_feature1=['age', 'height_cm', 'weight_kg', 'overall', 'potential','attacking_crossing',\n",
        "              'attacking_finishing', 'attacking_heading_accuracy', 'attacking_short_passing', 'attacking_volleys']\n",
        "\n",
        "fifa_int1=fifa[int_feature1]\n",
        "\n",
        "plt.figure(figsize=(18, 14))\n",
        "\n",
        "for i, feature in enumerate(int_feature1):\n",
        "    plt.subplot(6,2, i + 1)\n",
        "    sns.histplot(fifa_int1[feature], bins=14, kde=True, color='blue', edgecolor='black')\n",
        "    #plt.title(feature)\n",
        "\n",
        "plt.tight_layout()\n",
        "plt.show()\n",
        "\n"
      ]
    },
    {
      "cell_type": "markdown",
      "id": "a89911d8",
      "metadata": {
        "id": "a89911d8"
      },
      "source": [
        "## Insights\n",
        "- majority of the players are between 20 to 27\n",
        "- maximum number of players have the height of 180 cm\n",
        "- Majority of the players have the weight between 70 to 85kg\n",
        "- Majority of the players have the overall rating between 60 to 75\n",
        "- maximum players have got the rating of 75 for their potential\n",
        "- majority of the players rated between 55 to 70 for the attacking  crossing skill\n",
        "- majority of the players got the rating between 60 to 70 for their attacking finishing skill\n",
        "- majority of the players received 50 to 70 rating points for their attacking head accuracy\n",
        "- maximum players rated around 65 for the attacking short passing ability\n",
        "- Majority of the players are rated between 30 to 65 for the ability of attacking volleys"
      ]
    },
    {
      "cell_type": "code",
      "execution_count": null,
      "id": "65cf2e04",
      "metadata": {
        "id": "65cf2e04"
      },
      "outputs": [],
      "source": [
        "int_feature2=['skill_dribbling', 'skill_curve', 'skill_fk_accuracy', 'skill_long_passing', 'skill_ball_control', 'movement_acceleration', 'movement_sprint_speed', 'movement_agility', 'movement_reactions', 'movement_balance']\n",
        "fifa_int2=fifa[int_feature2]\n",
        "\n",
        "plt.figure(figsize=(18, 14))\n",
        "\n",
        "for i, feature in enumerate(int_feature2):\n",
        "    plt.subplot(5,2, i + 1)\n",
        "    sns.histplot(fifa_int2[feature], bins=14, kde=True, color='blue', edgecolor='black')\n",
        "    #plt.title(feature)\n",
        "\n",
        "plt.tight_layout()\n",
        "plt.show()"
      ]
    },
    {
      "cell_type": "markdown",
      "id": "d5e66b7a",
      "metadata": {
        "id": "d5e66b7a"
      },
      "source": [
        "### Insights\n",
        "- majority of the players have the rating of 70 for their dribbling skill\n",
        "- maximum players have the rating of 45 to 60 for the curving skill\n",
        "- maximum players have the free kicking accuracy rating as 30\n",
        "- majority of the players ratd between 60 to 70 for long passing skill and ball controlling ability\n",
        "- maximum players are rated as 70 for their movement accelaration,sprint speed and movement agility\n",
        "- maximum players are rated as 65 for their movement reactions and balance"
      ]
    },
    {
      "cell_type": "code",
      "execution_count": null,
      "id": "3f9c92f1",
      "metadata": {
        "id": "3f9c92f1"
      },
      "outputs": [],
      "source": [
        "int_feature3=['power_shot_power', 'power_jumping', 'power_stamina', 'power_strength', 'power_long_shots',\n",
        "             'mentality_aggression', 'mentality_interceptions', 'mentality_positioning', 'mentality_vision',\n",
        "              'mentality_penalties', 'mentality_composure', 'defending_marking', 'defending_standing_tackle',\n",
        "              'defending_sliding_tackle']\n",
        "fifa_int3=fifa[int_feature3]\n",
        "\n",
        "plt.figure(figsize=(18, 16))\n",
        "\n",
        "for i, feature in enumerate(int_feature3):\n",
        "    plt.subplot(7,2, i + 1)\n",
        "    sns.histplot(fifa_int3[feature], bins=14, kde=True, color='blue', edgecolor='black')\n",
        "    #plt.title(feature)\n",
        "\n",
        "plt.tight_layout()\n",
        "plt.show()"
      ]
    },
    {
      "cell_type": "markdown",
      "id": "9bf13644",
      "metadata": {
        "id": "9bf13644"
      },
      "source": [
        "## Insights\n",
        "- majority of the players have the rating of 60 for the power shot skill\n",
        "- more players have the rating of 70 for the jumping power and stamina\n",
        "- Maximum players have the rating of 65 for their power strength\n",
        "- majority of players got the rating between 50 to 65 for the power of long shots\n",
        "- more players have the rating of 50 to 70 for their mental aggression\n",
        "- majority of the players got the rating between 55 to 65 for their mentality interceptionsand positioning\n",
        "- majority of the players have the rating of 60 for their mentality vision and composure\n",
        "- majority of players have the rating between 40 to 60 for their mentality penalties\n",
        "- majority of players have the similar rating of 60 for their defending marking,standing tackle and sliding tackle skills"
      ]
    },
    {
      "cell_type": "code",
      "execution_count": null,
      "id": "32d7d159",
      "metadata": {
        "id": "32d7d159"
      },
      "outputs": [],
      "source": [
        "print(fifa_obj)"
      ]
    },
    {
      "cell_type": "code",
      "execution_count": null,
      "id": "f46f211a",
      "metadata": {
        "id": "f46f211a"
      },
      "outputs": [],
      "source": [
        "obj_feature1=['international_reputation','skill_moves','weak_foot','preferred_foot']\n",
        "fifa_obj1=fifa[obj_feature1]\n",
        "\n",
        "plt.figure(figsize=(12, 8))\n",
        "\n",
        "for i, feature in enumerate(obj_feature1):\n",
        "    plt.subplot(2,2, i + 1)\n",
        "    sns.countplot(x=fifa_obj1[feature], palette=\"Set1\")\n",
        "    #sns.countplot(fifa_obj1[feature])\n",
        "    #plt.title(feature)\n",
        "\n",
        "plt.tight_layout()\n",
        "plt.show()"
      ]
    },
    {
      "cell_type": "markdown",
      "id": "735b388f",
      "metadata": {
        "id": "735b388f"
      },
      "source": [
        "### Insights\n",
        "- more than 90% players have the international reputaion as 1\n",
        "- More players have the rating of 2 for their skill moves, very few players got 5 rating points\n",
        "- 60% of players have got 3 rating ponints for their week foot performance\n",
        "- 70% of players use right foot as their preferred foot over the week foot"
      ]
    },
    {
      "cell_type": "code",
      "execution_count": null,
      "id": "06822a90",
      "metadata": {
        "id": "06822a90"
      },
      "outputs": [],
      "source": [
        "fig, ax=plt.subplots(2,1, figsize=(14,8))\n",
        "sns.countplot(x=fifa['work_rate'], ax=ax[0])\n",
        "sns.countplot(x=fifa['body_type'], ax=ax[1])"
      ]
    },
    {
      "cell_type": "markdown",
      "id": "3ec0bcd5",
      "metadata": {
        "id": "3ec0bcd5"
      },
      "source": [
        "- Majority of players have the work rate as  medium for that attacking rate and defending rate\n",
        "- Most of players have the normal body type. This column has few incorrect entries, need to correct by imputing mode value"
      ]
    },
    {
      "cell_type": "markdown",
      "id": "4636114f",
      "metadata": {
        "id": "4636114f"
      },
      "source": [
        "## Data correction for the column 'Body_type'"
      ]
    },
    {
      "cell_type": "code",
      "execution_count": null,
      "id": "b9c3075a",
      "metadata": {
        "id": "b9c3075a"
      },
      "outputs": [],
      "source": [
        "#Since it is object data type we have to impute using mode\n",
        "mode_value = fifa['body_type'].mode().iloc[0]\n",
        "print(mode_value)\n",
        "wrong_entries = ['Messi','C. Ronaldo','Neymar','PLAYER_BODY_TYPE_25','Courtois','Shaqiri','Akinfenwa']\n",
        "fifa['body_type'] = fifa['body_type'].replace(wrong_entries, mode_value)\n",
        "print(fifa['body_type'])"
      ]
    },
    {
      "cell_type": "code",
      "execution_count": null,
      "id": "1167158f",
      "metadata": {
        "id": "1167158f"
      },
      "outputs": [],
      "source": [
        "# plotting the graph after correcting the corrupted rows\n",
        "fig, ax=plt.subplots(1,1, figsize=(10,6))\n",
        "sns.countplot(x=fifa['body_type'])"
      ]
    },
    {
      "cell_type": "markdown",
      "id": "642c9391",
      "metadata": {
        "id": "642c9391"
      },
      "source": [
        "## Bivariate analysis"
      ]
    },
    {
      "cell_type": "markdown",
      "id": "2678df5e",
      "metadata": {
        "id": "2678df5e"
      },
      "source": [
        "### 1.  Player's overall rating vs few monetary features"
      ]
    },
    {
      "cell_type": "code",
      "execution_count": null,
      "id": "2ac3464c",
      "metadata": {
        "id": "2ac3464c"
      },
      "outputs": [],
      "source": [
        "plt.figure(figsize=(15,5))\n",
        "plt_num = 1\n",
        "\n",
        "fifa_bivar_cols = [\"wage_eur\", \"value_eur\", \"release_clause_eur\"]\n",
        "\n",
        "for column in fifa_bivar_cols:\n",
        "    if plt_num <= 3:\n",
        "        plt.subplot(1,3,plt_num)\n",
        "        sns.lineplot(x=\"overall\", y=column, data=fifa)\n",
        "    plt_num += 1\n",
        "plt.show()"
      ]
    },
    {
      "cell_type": "markdown",
      "id": "39429cc5",
      "metadata": {
        "id": "39429cc5"
      },
      "source": [
        "#### Insight\n",
        "- In general players wage, value and release clause increases exponentially when their overall rating is above 80.\n",
        "- Players with the overall rating of above 90 gets the higher wage"
      ]
    },
    {
      "cell_type": "code",
      "execution_count": null,
      "id": "e1e5fff8",
      "metadata": {
        "id": "e1e5fff8"
      },
      "outputs": [],
      "source": [
        "#Player's age vs few skill based ranking features\n",
        "\n",
        "plt.figure(figsize=(15,5))\n",
        "plt_num = 1\n",
        "\n",
        "fifa_bivar_cols = [\"overall\",\"potential\",'international_reputation']\n",
        "\n",
        "for column in fifa_bivar_cols:\n",
        "    if plt_num <= 3:\n",
        "        plt.subplot(1,3,plt_num)\n",
        "        sns.scatterplot(x=\"age\", y=column, data=fifa)\n",
        "    plt_num += 1\n",
        "plt.show()"
      ]
    },
    {
      "cell_type": "markdown",
      "id": "734be0fb",
      "metadata": {
        "id": "734be0fb"
      },
      "source": [
        "1) Players aged between 20 and 35 usually possess top tier overall and potential rankings\n",
        "\n",
        "2) Players with reputation ranking 4 and above are less when compared with the reputation 3 or below\n",
        "\n",
        "3) As the player's age increases beyond 35 years, their overall ranking, potential ranking and reputation ranking decreases"
      ]
    },
    {
      "cell_type": "code",
      "execution_count": null,
      "id": "69a6dd29",
      "metadata": {
        "id": "69a6dd29"
      },
      "outputs": [],
      "source": [
        "#Players height vs few key skills\n",
        "plt.figure(figsize=(14,12))\n",
        "plt_num = 1\n",
        "\n",
        "fifa_data_bivar_cols = [\"pace\", \"shooting\", \"passing\", \"dribbling\", \"defending\", \"physic\"]\n",
        "\n",
        "for column in fifa_data_bivar_cols:\n",
        "    if plt_num <= 6:\n",
        "        plt.subplot(2,3,plt_num)\n",
        "        sns.scatterplot(x=\"height_cm\", y=column, data=fifa)\n",
        "    plt_num += 1\n",
        "plt.show()"
      ]
    },
    {
      "cell_type": "markdown",
      "id": "b5fb92c8",
      "metadata": {
        "id": "b5fb92c8"
      },
      "source": [
        "1) As the height of the player increases,\n",
        "\n",
        "   a) their pace, passing and dribbling skills get decreased(beyond 190 cm)\n",
        "   \n",
        "   b) shooting skill is on high for very few players; otherwise it follows a decline as the hieght increases\n",
        "\n",
        "2) Players with height between 170 to 200 cm tend to have a good physic ranking and defending skill"
      ]
    },
    {
      "cell_type": "code",
      "execution_count": null,
      "id": "b8ed33e1",
      "metadata": {
        "id": "b8ed33e1"
      },
      "outputs": [],
      "source": [
        "#Players weight vs few key skills\n",
        "plt.figure(figsize=(14,12))\n",
        "plt_num = 1\n",
        "\n",
        "fifa_data_bivar_cols = [\"pace\", \"shooting\", \"passing\", \"dribbling\", \"defending\", \"physic\"]\n",
        "\n",
        "for column in fifa_data_bivar_cols:\n",
        "    if plt_num <= 6:\n",
        "        plt.subplot(2,3,plt_num)\n",
        "        sns.scatterplot(x=\"weight_kg\", y=column, data=fifa)\n",
        "    plt_num += 1\n",
        "plt.show()"
      ]
    },
    {
      "cell_type": "markdown",
      "id": "c2ed7bd6",
      "metadata": {
        "id": "c2ed7bd6"
      },
      "source": [
        "1) Players with weight 90 kg and above possess low pace and shooting skills\n",
        "\n",
        "2) Except for few players, players who weigh 90 kg and above possess low dribbling, passing and defending skills\n",
        "\n",
        "3) Players with weight 90kg and above possess high/good physic ranking"
      ]
    },
    {
      "cell_type": "markdown",
      "id": "14dfbf7d",
      "metadata": {
        "id": "14dfbf7d"
      },
      "source": [
        "## Task: 3\n",
        "##### 3.1 Prepare a rank ordered list of top 10 countries with most players.  Which countries are producing the most footballers that play at this level?\n",
        "\n",
        "## Need to prepare the rank order list"
      ]
    },
    {
      "cell_type": "code",
      "execution_count": null,
      "id": "20d81de1",
      "metadata": {
        "id": "20d81de1"
      },
      "outputs": [],
      "source": [
        "# finding number of players from each country\n",
        "fifa['nationality'].value_counts()"
      ]
    },
    {
      "cell_type": "code",
      "execution_count": null,
      "id": "61ea6b55",
      "metadata": {
        "id": "61ea6b55"
      },
      "outputs": [],
      "source": [
        "# Finding top 10 countries with most number of players\n",
        "print(fifa['nationality'].value_counts()[0:10])"
      ]
    },
    {
      "cell_type": "code",
      "execution_count": null,
      "id": "cbca2a1f",
      "metadata": {
        "id": "cbca2a1f"
      },
      "outputs": [],
      "source": [
        "country_names=list(fifa['nationality'].value_counts()[0:10].keys())\n",
        "print(country_names)\n",
        "number_players=list(fifa['nationality'].value_counts()[0:10])\n",
        "print(number_players)"
      ]
    },
    {
      "cell_type": "code",
      "execution_count": null,
      "id": "952aa660",
      "metadata": {
        "id": "952aa660"
      },
      "outputs": [],
      "source": [
        "# Bar-plot of top 10 countries with most number of players.\n",
        "plt.figure(figsize=(10,5))\n",
        "plt.bar(country_names,number_players)\n",
        "\n",
        "plt.title(\"Most Players in the Country\",fontsize=15)\n",
        "plt.xlabel('Names of the Country',fontsize=13)\n",
        "plt.ylabel('Number of Players',fontsize=13)\n",
        "plt.show()"
      ]
    },
    {
      "cell_type": "markdown",
      "id": "5f5c0f3c",
      "metadata": {
        "id": "5f5c0f3c"
      },
      "source": [
        "Countries that produce the most football players are given below:\n",
        "- England: 1667\n",
        "- Germany: 1216\n",
        "-  Spain: 1035\n",
        "-  France: 984\n",
        "-  Argentina: 886\n",
        "-   Brazil: 824\n",
        "-  Italy: 732\n",
        "-  Colombia: 591\n",
        "-  Japan: 453\n",
        "- Netherlands:416"
      ]
    },
    {
      "cell_type": "markdown",
      "id": "e1c481ac",
      "metadata": {
        "id": "e1c481ac"
      },
      "source": [
        "####  2) Plot the distribution of overall rating vs. age of players. Interpret what is the age after which a player stops improving?"
      ]
    },
    {
      "cell_type": "code",
      "execution_count": null,
      "id": "dae5ae51",
      "metadata": {
        "id": "dae5ae51"
      },
      "outputs": [],
      "source": [
        "fig, ax=plt.subplots(1,2, figsize=(16,6))\n",
        "sns.scatterplot(x='age',y='overall',data=fifa, ax=ax[0])\n",
        "sns.lineplot(x='age',y='overall',data=fifa, ax=ax[1])\n",
        "plt.show()"
      ]
    },
    {
      "cell_type": "markdown",
      "id": "c4259d73",
      "metadata": {
        "id": "c4259d73"
      },
      "source": [
        "- Assuming rank above 85 as superior, we could infer that a player stops improving after the age of 34"
      ]
    },
    {
      "cell_type": "markdown",
      "id": "3d024884",
      "metadata": {
        "id": "3d024884"
      },
      "source": [
        "#### 3) Which type of offensive players tends to get paid the most: the striker, the right-winger, or the left-winger?"
      ]
    },
    {
      "cell_type": "code",
      "execution_count": null,
      "id": "7817e830",
      "metadata": {
        "id": "7817e830"
      },
      "outputs": [],
      "source": [
        "# Extract players who play in Striker position\n",
        "fifa_st = fifa.loc[fifa[\"player_positions\"].str.contains(\"ST\")]\n",
        "\n",
        "# Extract players who play in Right wing position\n",
        "fifa_rw = fifa.loc[fifa[\"player_positions\"].str.contains(\"RW\")]\n",
        "\n",
        "# Extract players who play in Left wing position\n",
        "fifa_lw = fifa.loc[fifa[\"player_positions\"].str.contains(\"LW\")]\n",
        "\n",
        "# Concatenate the data\n",
        "fifa_off_players = pd.concat([fifa_st, fifa_rw, fifa_lw], axis=0, ignore_index=True)\n",
        "fifa_off_players"
      ]
    },
    {
      "cell_type": "code",
      "execution_count": null,
      "id": "37c9fa12",
      "metadata": {
        "id": "37c9fa12"
      },
      "outputs": [],
      "source": [
        "# Create a function to split the positions into separate columns\n",
        "\n",
        "def player_positions(position):\n",
        "    pla_posn_len = len(position)\n",
        "    global pla_posn1, pla_posn2, pla_posn3\n",
        "\n",
        "    if (pla_posn_len == 2 or pla_posn_len == 3):\n",
        "        pla_posn1 = position\n",
        "        pla_posn2 = pla_posn3 = ''\n",
        "    elif (pla_posn_len >= 4 and pla_posn_len <=8):\n",
        "        pla_posn1, pla_posn2 = position.split(\",\")\n",
        "        pla_posn3 = ''\n",
        "    else:\n",
        "        pla_posn1, pla_posn2, pla_posn3 = position.split(\",\")"
      ]
    },
    {
      "cell_type": "code",
      "execution_count": null,
      "id": "b192f409",
      "metadata": {
        "id": "b192f409"
      },
      "outputs": [],
      "source": [
        "# Split each player position into separate column\n",
        "\n",
        "for row in range(0,len(fifa_off_players)):\n",
        "    fifa_off_players.loc[row, [\"player_positions\"]].apply(player_positions)\n",
        "    fifa_off_players.loc[row, [\"pla_posn1\"]] = pla_posn1\n",
        "    fifa_off_players.loc[row, [\"pla_posn2\"]] = pla_posn2.strip()\n",
        "    fifa_off_players.loc[row, [\"pla_posn3\"]] = pla_posn3.strip()"
      ]
    },
    {
      "cell_type": "code",
      "execution_count": null,
      "id": "2d4865dd",
      "metadata": {
        "id": "2d4865dd"
      },
      "outputs": [],
      "source": [
        "# View the data created\n",
        "\n",
        "fifa_off_players[[\"player_positions\", \"pla_posn1\", \"pla_posn2\", \"pla_posn3\"]].head()"
      ]
    },
    {
      "cell_type": "code",
      "execution_count": null,
      "id": "fb30b66e",
      "metadata": {
        "id": "fb30b66e"
      },
      "outputs": [],
      "source": [
        "offensive_players = [\"ST\", \"LW\", \"RW\"]\n",
        "\n",
        "fifa_off_players_posn1 = fifa_off_players.loc[fifa_off_players[\"pla_posn1\"].isin(offensive_players)]\n",
        "fifa_off_players_posn2 = fifa_off_players.loc[fifa_off_players[\"pla_posn2\"].isin(offensive_players)]\n",
        "fifa_off_players_posn3 = fifa_off_players.loc[fifa_off_players[\"pla_posn3\"].isin(offensive_players)]"
      ]
    },
    {
      "cell_type": "code",
      "execution_count": null,
      "id": "61254757",
      "metadata": {
        "id": "61254757"
      },
      "outputs": [],
      "source": [
        "fig, ax=plt.subplots(1,3, figsize=(20,6))\n",
        "# Player position 1 vs wage\n",
        "sns.barplot(data=fifa_off_players_posn1, x=\"pla_posn1\", y=\"wage_eur\", hue=\"pla_posn1\",ax=ax[0])\n",
        "# Player position 2 vs wage\n",
        "sns.barplot(data=fifa_off_players_posn2,x=\"pla_posn2\",y='wage_eur',hue='pla_posn2',ax=ax[1])\n",
        "# Player position 3 vs wage\n",
        "sns.barplot(data=fifa_off_players_posn3,x=\"pla_posn3\",y='wage_eur',hue='pla_posn3',ax=ax[2])\n",
        "plt.show()"
      ]
    },
    {
      "cell_type": "markdown",
      "id": "67a3bd97",
      "metadata": {
        "id": "67a3bd97"
      },
      "source": [
        "## Need to correct these insights\n",
        "1) Right Wingers(RW) are paid more than the Strikers(ST) and the Left Wingers(LW) in position 1\n",
        "2) Left Wingers(LW) are paid more than the Strikers(ST) and Right Wingers(RW) in position 2\n",
        "3) Looking at the 3 visuals created, we could say that on an average, Strikers(ST) are paid more than the Left Wingers(LW) and Right Wingers(RW)\n",
        "\n",
        "1) By referring the above 3 graphs, we could say that\n",
        "\n",
        "    a) Strikers(ST) are paid the highest wage\n",
        "    \n",
        "    b) Left Wingers(LW) are paid the second most highest wage\n",
        "    \n",
        "    c) Right Wingers(RW) are paid the least wage when compared with other offensive positions[Striker(ST) and Right Winger(RW)]"
      ]
    },
    {
      "cell_type": "code",
      "execution_count": null,
      "id": "19986c95",
      "metadata": {
        "id": "19986c95"
      },
      "outputs": [],
      "source": [
        "# wage of players depends on their team position\n",
        "plt.figure(figsize=(20,6))\n",
        "sns.barplot(data=fifa, x=\"team_position\", y=\"wage_eur\")\n",
        "plt.show()"
      ]
    },
    {
      "cell_type": "markdown",
      "id": "98e7c3c6",
      "metadata": {
        "id": "98e7c3c6"
      },
      "source": [
        "12600 for RW, 12666 for ST, 14000 for LW, manual calculation of average wage of players through bar plot."
      ]
    },
    {
      "cell_type": "code",
      "execution_count": null,
      "id": "53799349",
      "metadata": {
        "id": "53799349"
      },
      "outputs": [],
      "source": [
        "rw_players = fifa[fifa['team_position'] == 'RW']\n",
        "print(rw_players.shape)\n",
        "lw_players=fifa[fifa['team_position'] == 'LW']\n",
        "print(lw_players.shape)\n",
        "st_players=fifa[fifa['team_position'] == 'ST']\n",
        "print(st_players.shape)"
      ]
    },
    {
      "cell_type": "code",
      "execution_count": null,
      "id": "b443bb52",
      "metadata": {
        "id": "b443bb52"
      },
      "outputs": [],
      "source": [
        "average_wage = [rw_players['wage_eur'].mean(), lw_players['wage_eur'].mean(), st_players['wage_eur'].mean()]\n",
        "positions = ['RW', 'LW', 'ST']\n",
        "\n",
        "# Create a bar chart\n",
        "plt.figure(figsize=(10, 6))\n",
        "plt.bar(positions, average_wage, color=['blue', 'red', 'green'])\n",
        "plt.xlabel('Position')\n",
        "plt.ylabel('Average Wage')\n",
        "plt.title('Average Wage in Euro by Player Position')\n",
        "plt.grid(True)\n",
        "\n",
        "plt.show()"
      ]
    },
    {
      "cell_type": "markdown",
      "id": "61409cdd",
      "metadata": {
        "id": "61409cdd"
      },
      "source": [
        "## Data preprocessing"
      ]
    },
    {
      "cell_type": "code",
      "execution_count": null,
      "id": "0fb76750",
      "metadata": {
        "id": "0fb76750"
      },
      "outputs": [],
      "source": [
        "fifa[fifa_flt].isnull().sum()"
      ]
    },
    {
      "cell_type": "markdown",
      "id": "68f31e46",
      "metadata": {
        "id": "68f31e46"
      },
      "source": [
        "Note: As per domain analysis pace,shooting,passing, dribbling,defending and  physic are related to players other than goal keeper. Hence the values for these skills  should be zero for goal keeper. We can replace these missing values with zero.\n",
        "Similarly players will not  possess the skills which goal keeper has possessed.Hence replacing missing values with zero\n",
        "\n",
        "Note: As release_clause_eur,team_jersey_number,contract_valid_until and nation_jersey_number are redundant features\n",
        "    we can drop these features.No need to handle missing values here.\n"
      ]
    },
    {
      "cell_type": "code",
      "execution_count": null,
      "id": "e0788e53",
      "metadata": {
        "id": "e0788e53"
      },
      "outputs": [],
      "source": [
        "columns_to_replace = ['pace','shooting','passing','dribbling','defending','physic','gk_diving','gk_handling',\n",
        "                      'gk_kicking','gk_reflexes','gk_speed','gk_positioning']\n",
        "\n",
        "# Replace missing values with zeros in the specified columns\n",
        "fifa[columns_to_replace] = fifa[columns_to_replace].fillna(0)"
      ]
    },
    {
      "cell_type": "code",
      "execution_count": null,
      "id": "6fb61a27",
      "metadata": {
        "id": "6fb61a27"
      },
      "outputs": [],
      "source": [
        "fifa[fifa_flt].isnull().sum()"
      ]
    },
    {
      "cell_type": "code",
      "execution_count": null,
      "id": "312f89d1",
      "metadata": {
        "id": "312f89d1"
      },
      "outputs": [],
      "source": [
        "fifa[fifa_int].isnull().sum()\n",
        "# Feature to drop is \"sofifa_id\" , since it is a unique feature."
      ]
    },
    {
      "cell_type": "code",
      "execution_count": null,
      "id": "741af5c7",
      "metadata": {
        "id": "741af5c7"
      },
      "outputs": [],
      "source": [
        "fifa[fifa_obj].isnull().sum()"
      ]
    },
    {
      "cell_type": "markdown",
      "id": "886c0bb0",
      "metadata": {
        "id": "886c0bb0"
      },
      "source": [
        "Note: As player_tags, team_position, loaned_from, joined, nation_position and player_traits are redundant features\n",
        "    we can drop these features.Hence no need to handle missing values.\n",
        "Note: As per domain analysis the skills from ls to rb are not related to goal keepers,\n",
        "    Hence replacing these missing values with zero."
      ]
    },
    {
      "cell_type": "code",
      "execution_count": null,
      "id": "bd77f474",
      "metadata": {
        "id": "bd77f474"
      },
      "outputs": [],
      "source": [
        "## Converting  the object type features from [ls.. to .. rb] to numerical values and handling the missing values with '0'\n",
        "cols_to_upd2 = ['ls', 'st', 'rs', 'lw', 'lf', 'cf', 'rf', 'rw', 'lam', 'cam', 'ram', 'lm', 'lcm',\n",
        "                'cm', 'rcm', 'rm', 'lwb', 'ldm', 'cdm', 'rdm', 'rwb', 'lb', 'lcb', 'cb', 'rcb', 'rb']"
      ]
    },
    {
      "cell_type": "code",
      "execution_count": null,
      "id": "d4fdfdd2",
      "metadata": {
        "id": "d4fdfdd2"
      },
      "outputs": [],
      "source": [
        "def col_typ_chg(col_val):\n",
        "    if col_val is np.nan:\n",
        "        return 0\n",
        "    col_val_spl = re.split('[+]', col_val)\n",
        "    col_val_int = list(map(int, col_val_spl))\n",
        "    if \"+\" in col_val:\n",
        "        return sum(col_val_int)\n",
        "    return np.abs(np.diff(col_val_int))[0]"
      ]
    },
    {
      "cell_type": "code",
      "execution_count": null,
      "id": "a422de82",
      "metadata": {
        "id": "a422de82"
      },
      "outputs": [],
      "source": [
        "for col2 in cols_to_upd2:\n",
        "    fifa[col2] = fifa[col2].apply(col_typ_chg)"
      ]
    },
    {
      "cell_type": "code",
      "execution_count": null,
      "id": "d576f2db",
      "metadata": {
        "id": "d576f2db"
      },
      "outputs": [],
      "source": [
        "fifa"
      ]
    },
    {
      "cell_type": "code",
      "execution_count": null,
      "id": "3cdab325",
      "metadata": {
        "id": "3cdab325"
      },
      "outputs": [],
      "source": [
        "fifa[fifa_obj].isnull().sum()"
      ]
    },
    {
      "cell_type": "code",
      "execution_count": null,
      "id": "551e1369",
      "metadata": {
        "id": "551e1369"
      },
      "outputs": [],
      "source": [
        "# Dropping the columns which are not needed for clustering model creation\n",
        "columns_to_drop=['release_clause_eur','team_jersey_number','contract_valid_until','nation_jersey_number','sofifa_id','club',\n",
        "        'player_url','short_name','long_name','dob','nationality','value_eur','wage_eur','preferred_foot','body_type','joined',\n",
        "       'real_face','player_tags','team_position','loaned_from','nation_position','player_traits','goalkeeping_diving',\n",
        "                 'goalkeeping_handling', 'goalkeeping_kicking', 'goalkeeping_positioning', 'goalkeeping_reflexes',\n",
        "                 'international_reputation', 'weak_foot', 'skill_moves']\n",
        "len(columns_to_drop)\n"
      ]
    },
    {
      "cell_type": "code",
      "execution_count": null,
      "id": "42e020ec",
      "metadata": {
        "id": "42e020ec"
      },
      "outputs": [],
      "source": [
        "# creating new dataframe after dropping the redundant columns\n",
        "fifa_new = fifa.drop(columns_to_drop,axis=1)\n",
        "fifa_new"
      ]
    },
    {
      "cell_type": "code",
      "execution_count": null,
      "id": "461462ff",
      "metadata": {
        "id": "461462ff"
      },
      "outputs": [],
      "source": [
        "# checking the null values after correcting\n",
        "fifa_new.info()\n",
        "# All the missing values are corrected."
      ]
    },
    {
      "cell_type": "markdown",
      "id": "f6e13893",
      "metadata": {
        "id": "f6e13893"
      },
      "source": [
        "### Encoding - converting categorical features into numerical values"
      ]
    },
    {
      "cell_type": "code",
      "execution_count": null,
      "id": "3c0ffa8a",
      "metadata": {
        "id": "3c0ffa8a"
      },
      "outputs": [],
      "source": [
        "# Split column player_positions into numerical values via label encoder\n",
        "# The combination of player positions in each cell is considered as a single value as it is specific to each player\n",
        "\n",
        "from sklearn.preprocessing import LabelEncoder\n",
        "lab_enc = LabelEncoder()\n",
        "\n",
        "fifa_new[\"player_positions\"] = lab_enc.fit_transform(fifa_new[\"player_positions\"])\n",
        "fifa_new[\"work_rate\"] = lab_enc.fit_transform(fifa_new[\"work_rate\"])\n"
      ]
    },
    {
      "cell_type": "code",
      "execution_count": null,
      "id": "19578ca8",
      "metadata": {
        "id": "19578ca8"
      },
      "outputs": [],
      "source": [
        "fifa_new.head()"
      ]
    },
    {
      "cell_type": "markdown",
      "id": "130e13ed",
      "metadata": {
        "id": "130e13ed"
      },
      "source": [
        "### Outlier handling\n"
      ]
    },
    {
      "cell_type": "code",
      "execution_count": null,
      "id": "b20b2c93",
      "metadata": {
        "id": "b20b2c93"
      },
      "outputs": [],
      "source": []
    },
    {
      "cell_type": "code",
      "execution_count": null,
      "id": "d7710d65",
      "metadata": {
        "id": "d7710d65"
      },
      "outputs": [],
      "source": [
        "fifa_new.columns"
      ]
    },
    {
      "cell_type": "code",
      "execution_count": null,
      "id": "84152068",
      "metadata": {
        "id": "84152068"
      },
      "outputs": [],
      "source": []
    },
    {
      "cell_type": "code",
      "execution_count": null,
      "id": "63c8aa52",
      "metadata": {
        "id": "63c8aa52"
      },
      "outputs": [],
      "source": [
        "# finding the outliers in continuous features\n",
        "plotnumber = 1\n",
        "plt.figure(figsize=(20,22))\n",
        "for column in fifa_new.columns:\n",
        "    if plotnumber <=74:\n",
        "        plt.subplot(15,5,plotnumber)\n",
        "        sns.boxplot(x=fifa_new[column])\n",
        "        plt.xlabel(column,fontsize=10)\n",
        "        plt.ylabel('count',fontsize=10)\n",
        "    plotnumber += 1\n",
        "plt.tight_layout()\n",
        "plt.show()"
      ]
    },
    {
      "cell_type": "markdown",
      "id": "a9fc46f2",
      "metadata": {
        "id": "a9fc46f2"
      },
      "source": [
        "Note:  In this dataset all the values are true data points, hence we cannot impute outliers by imputation method. Since it will effect in accuracy of the model creation results"
      ]
    },
    {
      "cell_type": "markdown",
      "id": "2cd49c0c",
      "metadata": {
        "id": "2cd49c0c"
      },
      "source": [
        "## Scaling"
      ]
    },
    {
      "cell_type": "code",
      "execution_count": null,
      "id": "6e961ded",
      "metadata": {
        "id": "6e961ded"
      },
      "outputs": [],
      "source": [
        "# applying standard scalar\n",
        "from sklearn.preprocessing import StandardScaler\n",
        "\n",
        "std_scl = StandardScaler()\n",
        "\n",
        "fifa_new_scale = std_scl.fit_transform(fifa_new)\n",
        "fifa_new_scale = pd.DataFrame(fifa_new_scale, columns = fifa_new.columns)"
      ]
    },
    {
      "cell_type": "code",
      "execution_count": null,
      "id": "9f10922e",
      "metadata": {
        "id": "9f10922e"
      },
      "outputs": [],
      "source": [
        "fifa_new_scale.head()"
      ]
    },
    {
      "cell_type": "code",
      "execution_count": null,
      "id": "ae75cdfd",
      "metadata": {
        "collapsed": true,
        "id": "ae75cdfd"
      },
      "outputs": [],
      "source": [
        "# finding the outliers in continuous features\n",
        "plotnumber = 1\n",
        "plt.figure(figsize=(20,22))\n",
        "for column in fifa_new_scale.columns:\n",
        "    if plotnumber <=74:\n",
        "        plt.subplot(15,5,plotnumber)\n",
        "        sns.distplot(x=fifa_new_scale[column])\n",
        "        plt.xlabel(column,fontsize=10)\n",
        "        plt.ylabel('count',fontsize=10)\n",
        "    plotnumber += 1\n",
        "plt.tight_layout()\n",
        "plt.show()"
      ]
    },
    {
      "cell_type": "code",
      "execution_count": null,
      "id": "d55864cd",
      "metadata": {
        "id": "d55864cd"
      },
      "outputs": [],
      "source": [
        "# finding duplicate features and deleting those features"
      ]
    },
    {
      "cell_type": "code",
      "execution_count": null,
      "id": "28190fc8",
      "metadata": {
        "id": "28190fc8"
      },
      "outputs": [],
      "source": []
    },
    {
      "cell_type": "markdown",
      "id": "8156f7c4",
      "metadata": {
        "id": "8156f7c4"
      },
      "source": [
        "Note: After applying scaling also the outliers remain the same\n"
      ]
    },
    {
      "cell_type": "markdown",
      "id": "ada92cac",
      "metadata": {
        "id": "ada92cac"
      },
      "source": [
        "## Feature extraction\n",
        "####  Principal Component Analysis(PCA)"
      ]
    },
    {
      "cell_type": "code",
      "execution_count": null,
      "id": "2eb2adc9",
      "metadata": {
        "id": "2eb2adc9"
      },
      "outputs": [],
      "source": [
        "from sklearn.decomposition import PCA\n",
        "\n",
        "pca=PCA()\n",
        "pri_comps = pca.fit_transform(fifa_new)\n",
        "\n",
        "plt.plot(np.cumsum(pca.explained_variance_ratio_))\n",
        "plt.xlabel('Number of Components')\n",
        "plt.ylabel('Variance (%)') #for each component\n",
        "plt.title('Explained Variance')\n",
        "plt.show()"
      ]
    },
    {
      "cell_type": "code",
      "execution_count": null,
      "id": "ae5fc356",
      "metadata": {
        "id": "ae5fc356"
      },
      "outputs": [],
      "source": [
        "# choose components as 5,6,7,8,9  then check the score\n",
        "pca = PCA(n_components=8)\n",
        "fifa_pca = pca.fit_transform(fifa_new)\n",
        "\n",
        "# This will be the new data fed to the algorithm.\n",
        "fifa_pca_new = pd.DataFrame(data = fifa_pca, columns = ['PC1', 'PC2', 'PC3', 'PC4', 'PC5','PC6', 'PC7', 'PC8'])"
      ]
    },
    {
      "cell_type": "code",
      "execution_count": null,
      "id": "c4ee8d27",
      "metadata": {
        "id": "c4ee8d27"
      },
      "outputs": [],
      "source": [
        "fifa_pca_new"
      ]
    },
    {
      "cell_type": "markdown",
      "id": "114a85ee",
      "metadata": {
        "id": "114a85ee"
      },
      "source": [
        "## 6) Model selection and creation\n",
        "### Task 2 - Explore football skills and cluster football players based on their attributes."
      ]
    },
    {
      "cell_type": "markdown",
      "id": "fbe1762a",
      "metadata": {
        "id": "fbe1762a"
      },
      "source": [
        "### Applying KMeans clustering"
      ]
    },
    {
      "cell_type": "code",
      "execution_count": null,
      "id": "95baadf1",
      "metadata": {
        "id": "95baadf1"
      },
      "outputs": [],
      "source": [
        "#elbow method , determining k value\n",
        "from sklearn.cluster import KMeans\n",
        "wcss=[]\n",
        "for i in range (1,11):\n",
        "    kmeans=KMeans(n_clusters=i,random_state=42)\n",
        "    kmeans.fit(fifa_new)\n",
        "    wcss.append(kmeans.inertia_)# inertia will calculate the wcss\n",
        "plt.plot(range(1,11),wcss)\n",
        "plt.title('The Elbow Method')\n",
        "plt.xlabel('Number of clusters')\n",
        "plt.ylabel('WCSS')\n",
        "plt.show()"
      ]
    },
    {
      "cell_type": "code",
      "execution_count": null,
      "id": "9c9e715d",
      "metadata": {
        "id": "9c9e715d"
      },
      "outputs": [],
      "source": [
        "# finding k value from the features selected by the PCA\n",
        "from sklearn.cluster import KMeans\n",
        "wcss_pca = []\n",
        "for cluster in range(1,11):\n",
        "    kme_clu_pca = KMeans(n_clusters=cluster, random_state=42)\n",
        "    kme_clu_pca.fit(fifa_pca_new)\n",
        "    wcss_pca.append(kme_clu_pca.inertia_)\n",
        "\n",
        "plt.plot(range(1,11), wcss_pca)\n",
        "plt.title(\"Elbow method\")\n",
        "plt.xlabel(\"Number of clusters\")\n",
        "plt.ylabel(\"WCSS(for PCA features)\")\n",
        "plt.show()"
      ]
    },
    {
      "cell_type": "markdown",
      "id": "381d0104",
      "metadata": {
        "id": "381d0104"
      },
      "source": [
        "The elbow method shows that the cluster size to be selected is 4.  However, let us create model with cluster size 2 to 5 to analyse and confirm. Using the original features and PCA features number clusters from the elbow method is 4.\n",
        "### Create the model with cluster size 3 to 5"
      ]
    },
    {
      "cell_type": "code",
      "execution_count": null,
      "id": "34e4ff72",
      "metadata": {
        "id": "34e4ff72"
      },
      "outputs": [],
      "source": [
        "# For 2 clusters\n",
        "kmea_clu_pca_clu2 = KMeans(n_clusters=2, random_state=42)\n",
        "kmea_clu_pca_clu2.fit(fifa_pca_new)\n",
        "print(\"WCSS for pca with 2 clusters:\", kmea_clu_pca_clu2.inertia_)\n",
        "\n",
        "# For 3 clusters\n",
        "kmea_clu_pca_clu3 = KMeans(n_clusters=3, random_state=42)\n",
        "kmea_clu_pca_clu3.fit(fifa_pca_new)\n",
        "print(\"WCSS for pca with 3 clusters:\", kmea_clu_pca_clu3.inertia_)\n",
        "\n",
        "# For 4 clusters\n",
        "kmea_clu_pca_clu4 = KMeans(n_clusters=4, random_state=42)\n",
        "kmea_clu_pca_clu4.fit(fifa_pca_new)\n",
        "print(\"WCSS for pca with 4 clusters:\", kmea_clu_pca_clu4.inertia_)\n",
        "\n",
        "# For 5 clusters\n",
        "kmea_clu_pca_clu5 = KMeans(n_clusters=5, random_state=42)\n",
        "kmea_clu_pca_clu5.fit(fifa_pca_new)\n",
        "print(\"WCSS for pca with 5 clusters:\", kmea_clu_pca_clu5.inertia_)"
      ]
    },
    {
      "cell_type": "code",
      "execution_count": null,
      "id": "9ca922b8",
      "metadata": {
        "id": "9ca922b8"
      },
      "outputs": [],
      "source": [
        "# For dataframe \"# For fifa_new\"\n",
        "# For 2 clusters\n",
        "kmea_clu2 = KMeans(n_clusters=2, random_state=42)\n",
        "kmea_clu2.fit(fifa_new)\n",
        "print(\"WCSS for dataframe with 2 clusters:\", kmea_clu2.inertia_)\n",
        "\n",
        "# For 3 clusters\n",
        "kmea_clu3 = KMeans(n_clusters=3, random_state=42)\n",
        "kmea_clu3.fit(fifa_new)\n",
        "print(\"WCSS for dataframe with 3 clusters:\", kmea_clu3.inertia_)\n",
        "\n",
        "# For 4 clusters\n",
        "kmea_clu4 = KMeans(n_clusters=4, random_state=42)\n",
        "kmea_clu4.fit(fifa_new)\n",
        "print(\"WCSS for dataframe with 4 clusters:\", kmea_clu4.inertia_)\n",
        "\n",
        "# For 5 clusters\n",
        "kmea_clu5 = KMeans(n_clusters=5, random_state=42)\n",
        "kmea_clu5.fit(fifa_new)\n",
        "print(\"WCSS for dataframe with 5 clusters:\", kmea_clu5.inertia_)"
      ]
    },
    {
      "cell_type": "markdown",
      "id": "32a9ac8b",
      "metadata": {
        "id": "32a9ac8b"
      },
      "source": [
        " ### Extract the labels from various clusters"
      ]
    },
    {
      "cell_type": "code",
      "execution_count": null,
      "id": "53d39c75",
      "metadata": {
        "id": "53d39c75"
      },
      "outputs": [],
      "source": [
        "# For dataframe \"fifa_new\"\n",
        "\n",
        "kmea_clu2_labels = kmea_clu2.labels_\n",
        "kmea_clu3_labels = kmea_clu3.labels_\n",
        "kmea_clu4_labels = kmea_clu4.labels_\n",
        "kmea_clu5_labels = kmea_clu5.labels_\n",
        "\n",
        "# For dataframe \"fifa_data_pca\n",
        "\n",
        "kmea_clu_pca_clu2_labels = kmea_clu_pca_clu2.labels_\n",
        "kmea_clu_pca_clu3_labels = kmea_clu_pca_clu3.labels_\n",
        "kmea_clu_pca_clu4_labels = kmea_clu_pca_clu4.labels_\n",
        "kmea_clu_pca_clu5_labels = kmea_clu_pca_clu5.labels_"
      ]
    },
    {
      "cell_type": "code",
      "execution_count": null,
      "id": "5eb779f4",
      "metadata": {
        "id": "5eb779f4"
      },
      "outputs": [],
      "source": [
        "len(kmea_clu2_labels)"
      ]
    },
    {
      "cell_type": "code",
      "execution_count": null,
      "id": "8e7b3e3f",
      "metadata": {
        "collapsed": true,
        "id": "8e7b3e3f"
      },
      "outputs": [],
      "source": [
        "fifa_new.info()"
      ]
    },
    {
      "cell_type": "markdown",
      "id": "17d68c8a",
      "metadata": {
        "id": "17d68c8a"
      },
      "source": [
        "#### Striker vs Pace skills(for clusters 2 to 5)"
      ]
    },
    {
      "cell_type": "code",
      "execution_count": null,
      "id": "2bb5373b",
      "metadata": {
        "id": "2bb5373b"
      },
      "outputs": [],
      "source": [
        "color_scheme = np.array([\"red\", \"blue\", \"green\", \"yellow\", \"black\"])\n",
        "\n",
        "plt.figure(figsize=(12,4))\n",
        "sns.scatterplot(x=\"ls\", y=\"pace\", data=fifa_new, color=color_scheme[kmea_clu2_labels])\n",
        "plt.show()\n",
        "\n",
        "plt.figure(figsize=(12,4))\n",
        "sns.scatterplot(x=\"ls\", y=\"pace\", data=fifa_new, color=color_scheme[kmea_clu3_labels])\n",
        "plt.show()\n",
        "\n",
        "plt.figure(figsize=(12,4))\n",
        "sns.scatterplot(x=\"ls\", y=\"pace\", data=fifa_new, color=color_scheme[kmea_clu4_labels])\n",
        "plt.show()\n",
        "\n",
        "plt.figure(figsize=(12,4))\n",
        "sns.scatterplot(x=\"ls\", y=\"pace\", data=fifa_new, color=color_scheme[kmea_clu5_labels])\n",
        "plt.show()"
      ]
    },
    {
      "cell_type": "markdown",
      "source": [
        "Pace Vs shooting for clusters 2 to 5"
      ],
      "metadata": {
        "id": "Fl7W2m22VY7b"
      },
      "id": "Fl7W2m22VY7b"
    },
    {
      "cell_type": "code",
      "source": [
        "color_scheme = np.array([\"red\", \"blue\", \"green\", \"yellow\", \"black\"])\n",
        "\n",
        "plt.figure(figsize=(12,4))\n",
        "sns.scatterplot(x=\"pace\", y=\"shooting\", data=fifa_new, color=color_scheme[kmea_clu2_labels])\n",
        "plt.show()\n",
        "\n",
        "plt.figure(figsize=(12,4))\n",
        "sns.scatterplot(x=\"pace\", y=\"shooting\", data=fifa_new, color=color_scheme[kmea_clu3_labels])\n",
        "plt.show()\n",
        "\n",
        "plt.figure(figsize=(12,4))\n",
        "sns.scatterplot(x=\"pace\", y=\"shooting\", data=fifa_new, color=color_scheme[kmea_clu4_labels])\n",
        "plt.show()\n",
        "\n",
        "plt.figure(figsize=(12,4))\n",
        "sns.scatterplot(x=\"pace\", y=\"shooting\", data=fifa_new, color=color_scheme[kmea_clu5_labels])\n",
        "plt.show()"
      ],
      "metadata": {
        "id": "YbuXQvMuVXFe"
      },
      "id": "YbuXQvMuVXFe",
      "execution_count": null,
      "outputs": []
    },
    {
      "cell_type": "markdown",
      "source": [
        "Pace Vs Passing for clusters 2 to 5"
      ],
      "metadata": {
        "id": "ZGTzCGZYV1yN"
      },
      "id": "ZGTzCGZYV1yN"
    },
    {
      "cell_type": "code",
      "source": [
        "color_scheme = np.array([\"red\", \"blue\", \"green\", \"yellow\", \"black\"])\n",
        "\n",
        "plt.figure(figsize=(12,4))\n",
        "sns.scatterplot(x=\"pace\", y=\"passing\", data=fifa_new, color=color_scheme[kmea_clu2_labels])\n",
        "plt.show()\n",
        "\n",
        "plt.figure(figsize=(12,4))\n",
        "sns.scatterplot(x=\"pace\", y=\"passing\", data=fifa_new, color=color_scheme[kmea_clu3_labels])\n",
        "plt.show()\n",
        "\n",
        "plt.figure(figsize=(12,4))\n",
        "sns.scatterplot(x=\"pace\", y=\"passing\", data=fifa_new, color=color_scheme[kmea_clu4_labels])\n",
        "plt.show()\n",
        "\n",
        "plt.figure(figsize=(12,4))\n",
        "sns.scatterplot(x=\"pace\", y=\"passing\", data=fifa_new, color=color_scheme[kmea_clu5_labels])\n",
        "plt.show()"
      ],
      "metadata": {
        "id": "qZn6n6FHVXCO"
      },
      "id": "qZn6n6FHVXCO",
      "execution_count": null,
      "outputs": []
    },
    {
      "cell_type": "markdown",
      "source": [
        "Pace Vs Dribbling for clusters 2 to 5"
      ],
      "metadata": {
        "id": "uYznstu9WO8V"
      },
      "id": "uYznstu9WO8V"
    },
    {
      "cell_type": "code",
      "source": [
        "color_scheme = np.array([\"red\", \"blue\", \"green\", \"yellow\", \"black\"])\n",
        "\n",
        "plt.figure(figsize=(12,4))\n",
        "sns.scatterplot(x=\"pace\", y=\"dribbling\", data=fifa_new, color=color_scheme[kmea_clu2_labels])\n",
        "plt.show()\n",
        "\n",
        "plt.figure(figsize=(12,4))\n",
        "sns.scatterplot(x=\"pace\", y=\"dribbling\", data=fifa_new, color=color_scheme[kmea_clu3_labels])\n",
        "plt.show()\n",
        "\n",
        "plt.figure(figsize=(12,4))\n",
        "sns.scatterplot(x=\"pace\", y=\"dribbling\", data=fifa_new, color=color_scheme[kmea_clu4_labels])\n",
        "plt.show()\n",
        "\n",
        "plt.figure(figsize=(12,4))\n",
        "sns.scatterplot(x=\"pace\", y=\"dribbling\", data=fifa_new, color=color_scheme[kmea_clu5_labels])\n",
        "plt.show()"
      ],
      "metadata": {
        "id": "i6LTfcIXVW_f"
      },
      "id": "i6LTfcIXVW_f",
      "execution_count": null,
      "outputs": []
    },
    {
      "cell_type": "markdown",
      "source": [
        "Pace Vs Defending for clusters 2 to 5"
      ],
      "metadata": {
        "id": "TiEH702wWfQE"
      },
      "id": "TiEH702wWfQE"
    },
    {
      "cell_type": "code",
      "source": [
        "color_scheme = np.array([\"red\", \"blue\", \"green\", \"yellow\", \"black\"])\n",
        "\n",
        "plt.figure(figsize=(12,4))\n",
        "sns.scatterplot(x=\"pace\", y=\"defending\", data=fifa_new, color=color_scheme[kmea_clu2_labels])\n",
        "plt.show()\n",
        "\n",
        "plt.figure(figsize=(12,4))\n",
        "sns.scatterplot(x=\"pace\", y=\"defending\", data=fifa_new, color=color_scheme[kmea_clu3_labels])\n",
        "plt.show()\n",
        "\n",
        "plt.figure(figsize=(12,4))\n",
        "sns.scatterplot(x=\"pace\", y=\"defending\", data=fifa_new, color=color_scheme[kmea_clu4_labels])\n",
        "plt.show()\n",
        "\n",
        "plt.figure(figsize=(12,4))\n",
        "sns.scatterplot(x=\"pace\", y=\"defending\", data=fifa_new, color=color_scheme[kmea_clu5_labels])\n",
        "plt.show()"
      ],
      "metadata": {
        "id": "MuZRYDSfVW78"
      },
      "id": "MuZRYDSfVW78",
      "execution_count": null,
      "outputs": []
    },
    {
      "cell_type": "code",
      "source": [],
      "metadata": {
        "id": "DLmNgZQnVW4i"
      },
      "id": "DLmNgZQnVW4i",
      "execution_count": null,
      "outputs": []
    },
    {
      "cell_type": "code",
      "source": [],
      "metadata": {
        "id": "DB6MVoe_VWrf"
      },
      "id": "DB6MVoe_VWrf",
      "execution_count": null,
      "outputs": []
    },
    {
      "cell_type": "markdown",
      "source": [
        "PC1 vs all other PC's for cluster 3"
      ],
      "metadata": {
        "id": "y_6EdL07WqVJ"
      },
      "id": "y_6EdL07WqVJ"
    },
    {
      "cell_type": "code",
      "execution_count": null,
      "id": "8893f97d",
      "metadata": {
        "id": "8893f97d"
      },
      "outputs": [],
      "source": [
        "plt.figure(figsize=(15,15))\n",
        "plt_num = 1\n",
        "\n",
        "fifa_data_bivar_cols = [\"PC2\", \"PC3\", \"PC4\", \"PC5\", \"PC6\"]\n",
        "\n",
        "for column in fifa_data_bivar_cols:\n",
        "    if plt_num <= 5:\n",
        "        plt.subplot(3,2,plt_num)\n",
        "        sns.scatterplot(x=\"PC1\", y=column, data=fifa_pca_new, color=color_scheme[kmea_clu_pca_clu3_labels])\n",
        "    plt_num += 1\n",
        "plt.show()"
      ]
    },
    {
      "cell_type": "markdown",
      "source": [
        "PC2 Vs all other PC's for cluster 3"
      ],
      "metadata": {
        "id": "0sKxprJ9WwyH"
      },
      "id": "0sKxprJ9WwyH"
    },
    {
      "cell_type": "code",
      "execution_count": null,
      "id": "64862da1",
      "metadata": {
        "id": "64862da1"
      },
      "outputs": [],
      "source": [
        "plt.figure(figsize=(15,15))\n",
        "plt_num = 1\n",
        "\n",
        "fifa_data_bivar_cols = [\"PC1\", \"PC3\", \"PC4\", \"PC5\", \"PC6\"]\n",
        "\n",
        "for column in fifa_data_bivar_cols:\n",
        "    if plt_num <= 5:\n",
        "        plt.subplot(3,2,plt_num)\n",
        "        sns.scatterplot(x=\"PC2\", y=column, data=fifa_pca_new, color=color_scheme[kmea_clu_pca_clu3_labels])\n",
        "    plt_num += 1\n",
        "plt.show()"
      ]
    },
    {
      "cell_type": "markdown",
      "source": [
        "PC3 Vs all other PC's for cluster 3"
      ],
      "metadata": {
        "id": "GutdyVrIW5UF"
      },
      "id": "GutdyVrIW5UF"
    },
    {
      "cell_type": "code",
      "execution_count": null,
      "id": "bf802850",
      "metadata": {
        "id": "bf802850"
      },
      "outputs": [],
      "source": [
        "plt.figure(figsize=(15,15))\n",
        "plt_num = 1\n",
        "\n",
        "fifa_data_bivar_cols = [\"PC1\", \"PC2\", \"PC4\", \"PC5\", \"PC6\"]\n",
        "\n",
        "for column in fifa_data_bivar_cols:\n",
        "    if plt_num <= 5:\n",
        "        plt.subplot(3,2,plt_num)\n",
        "        sns.scatterplot(x=\"PC3\", y=column, data=fifa_pca_new, color=color_scheme[kmea_clu_pca_clu3_labels])\n",
        "    plt_num += 1\n",
        "plt.show()"
      ]
    },
    {
      "cell_type": "markdown",
      "source": [
        "PC4 Vs all other PC's for cluster 3"
      ],
      "metadata": {
        "id": "6xSp5xEKW-BN"
      },
      "id": "6xSp5xEKW-BN"
    },
    {
      "cell_type": "code",
      "execution_count": null,
      "id": "626f9690",
      "metadata": {
        "id": "626f9690"
      },
      "outputs": [],
      "source": [
        "plt.figure(figsize=(15,15))\n",
        "plt_num = 1\n",
        "\n",
        "fifa_data_bivar_cols = [\"PC1\",\"PC2\", \"PC3\", \"PC5\", \"PC6\"]\n",
        "\n",
        "for column in fifa_data_bivar_cols:\n",
        "    if plt_num <= 5:\n",
        "        plt.subplot(3,2,plt_num)\n",
        "        sns.scatterplot(x=\"PC4\", y=column, data=fifa_pca_new, color=color_scheme[kmea_clu_pca_clu3_labels])\n",
        "    plt_num += 1\n",
        "plt.show()"
      ]
    },
    {
      "cell_type": "markdown",
      "source": [
        "PC5 Vs all other PC's for cluster 3"
      ],
      "metadata": {
        "id": "ve_d0K91XBRs"
      },
      "id": "ve_d0K91XBRs"
    },
    {
      "cell_type": "code",
      "execution_count": null,
      "id": "8ea75ecc",
      "metadata": {
        "id": "8ea75ecc"
      },
      "outputs": [],
      "source": [
        "plt.figure(figsize=(15,15))\n",
        "plt_num = 1\n",
        "\n",
        "fifa_data_bivar_cols = [\"PC1\",\"PC2\", \"PC3\", \"PC4\", \"PC6\"]\n",
        "\n",
        "for column in fifa_data_bivar_cols:\n",
        "    if plt_num <= 5:\n",
        "        plt.subplot(3,2,plt_num)\n",
        "        sns.scatterplot(x=\"PC5\", y=column, data=fifa_pca_new, color=color_scheme[kmea_clu_pca_clu3_labels])\n",
        "    plt_num += 1\n",
        "plt.show()"
      ]
    },
    {
      "cell_type": "markdown",
      "source": [
        "PC6 Vs all other PC's for cluster 3"
      ],
      "metadata": {
        "id": "dZOgZJy-XDzt"
      },
      "id": "dZOgZJy-XDzt"
    },
    {
      "cell_type": "code",
      "execution_count": null,
      "id": "c021d727",
      "metadata": {
        "id": "c021d727"
      },
      "outputs": [],
      "source": [
        "plt.figure(figsize=(15,15))\n",
        "plt_num = 1\n",
        "\n",
        "fifa_data_bivar_cols = [\"PC1\",\"PC2\", \"PC3\", \"PC4\", \"PC5\"]\n",
        "\n",
        "for column in fifa_data_bivar_cols:\n",
        "    if plt_num <= 5:\n",
        "        plt.subplot(3,2,plt_num)\n",
        "        sns.scatterplot(x=\"PC6\", y=column, data=fifa_pca_new, color=color_scheme[kmea_clu_pca_clu3_labels])\n",
        "    plt_num += 1\n",
        "plt.show()"
      ]
    },
    {
      "cell_type": "markdown",
      "source": [
        "Silhouette score for the Preprocessed data"
      ],
      "metadata": {
        "id": "k3IYjYXwXGGl"
      },
      "id": "k3IYjYXwXGGl"
    },
    {
      "cell_type": "code",
      "execution_count": null,
      "id": "4a93f29b",
      "metadata": {
        "id": "4a93f29b"
      },
      "outputs": [],
      "source": [
        "from sklearn.metrics import silhouette_score\n",
        "\n",
        "print(\"Silhouette score for dataframe created via Duplicated features method\\n\")\n",
        "\n",
        "print(\"Silhouette score(Dupl features, cluster 2):\",\n",
        "      round(silhouette_score(fifa_new, kmea_clu2_labels, metric='euclidean'), 3))\n",
        "\n",
        "print(\"Silhouette score(Dupl features, cluster 3):\",\n",
        "      round(silhouette_score(fifa_new, kmea_clu3_labels, metric='euclidean'), 3))\n",
        "\n",
        "print(\"Silhouette score(Dupl features, cluster 4):\",\n",
        "      round(silhouette_score(fifa_new, kmea_clu4_labels, metric='euclidean'), 3))\n",
        "\n",
        "print(\"Silhouette score(Dupl features, cluster 5):\",\n",
        "      round(silhouette_score(fifa_new, kmea_clu5_labels, metric='euclidean'), 3))"
      ]
    },
    {
      "cell_type": "markdown",
      "source": [
        "Silhouette score for the data after PCA"
      ],
      "metadata": {
        "id": "sibS-m4jYFAE"
      },
      "id": "sibS-m4jYFAE"
    },
    {
      "cell_type": "code",
      "execution_count": null,
      "id": "951d1111",
      "metadata": {
        "id": "951d1111"
      },
      "outputs": [],
      "source": [
        "\n",
        "print(\"Silhouette score for dataframe created via PCA\\n\")\n",
        "\n",
        "print(\"Silhouette score(PCA, cluster 2):\",\n",
        "      round(silhouette_score(fifa_pca_new, kmea_clu_pca_clu2_labels, metric='euclidean'), 3))\n",
        "\n",
        "print(\"Silhouette score(PCA, cluster 3):\",\n",
        "      round(silhouette_score(fifa_pca_new, kmea_clu_pca_clu3_labels, metric='euclidean'), 3))\n",
        "\n",
        "print(\"Silhouette score(PCA, cluster 4):\",\n",
        "      round(silhouette_score(fifa_pca_new, kmea_clu_pca_clu4_labels, metric='euclidean'), 3))\n",
        "\n",
        "print(\"Silhouette score(PCA, cluster 5):\",\n",
        "      round(silhouette_score(fifa_pca_new, kmea_clu_pca_clu5_labels, metric='euclidean'), 3))"
      ]
    }
  ],
  "metadata": {
    "kernelspec": {
      "display_name": "Python 3 (ipykernel)",
      "language": "python",
      "name": "python3"
    },
    "language_info": {
      "codemirror_mode": {
        "name": "ipython",
        "version": 3
      },
      "file_extension": ".py",
      "mimetype": "text/x-python",
      "name": "python",
      "nbconvert_exporter": "python",
      "pygments_lexer": "ipython3",
      "version": "3.9.12"
    },
    "colab": {
      "provenance": [],
      "include_colab_link": true
    }
  },
  "nbformat": 4,
  "nbformat_minor": 5
}